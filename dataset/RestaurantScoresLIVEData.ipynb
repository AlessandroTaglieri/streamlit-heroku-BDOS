{
 "cells": [
  {
   "cell_type": "markdown",
   "metadata": {
    "colab_type": "text",
    "id": "UdcTifiWG_DD"
   },
   "source": [
    "**Ashish Verma** <br>\n",
    "**University of Ottawa**"
   ]
  },
  {
   "cell_type": "markdown",
   "metadata": {
    "colab_type": "text",
    "id": "do94n7q_Ja1l"
   },
   "source": [
    "## **Loading data in dataframe**"
   ]
  },
  {
   "cell_type": "code",
   "execution_count": null,
   "metadata": {
    "colab": {},
    "colab_type": "code",
    "id": "XxfPmbPsiXxj"
   },
   "outputs": [],
   "source": [
    "dataPath = '/content/drive/My Drive/Colab Notebooks/MachineLearning/Data'"
   ]
  },
  {
   "cell_type": "code",
   "execution_count": 1,
   "metadata": {
    "colab": {},
    "colab_type": "code",
    "id": "3WRrv8w7gFTd"
   },
   "outputs": [],
   "source": [
    "live_data = 'Restaurant_Scores_-_LIVES_Standard.csv'"
   ]
  },
  {
   "cell_type": "code",
   "execution_count": 2,
   "metadata": {
    "colab": {},
    "colab_type": "code",
    "id": "tl2-Z0SngIUk"
   },
   "outputs": [],
   "source": [
    "import pandas as pd\n",
    "import numpy as np"
   ]
  },
  {
   "cell_type": "code",
   "execution_count": 3,
   "metadata": {
    "colab": {},
    "colab_type": "code",
    "id": "Dya0jsIuikAM"
   },
   "outputs": [],
   "source": [
    "load_data = pd.read_csv(live_data)"
   ]
  },
  {
   "cell_type": "code",
   "execution_count": 5,
   "metadata": {
    "colab": {
     "base_uri": "https://localhost:8080/",
     "height": 213
    },
    "colab_type": "code",
    "id": "-z2rfK6Doeuz",
    "outputId": "6da95fa3-f295-4df9-a670-806dd2e2f637"
   },
   "outputs": [
    {
     "data": {
      "text/html": [
       "<div>\n",
       "<style scoped>\n",
       "    .dataframe tbody tr th:only-of-type {\n",
       "        vertical-align: middle;\n",
       "    }\n",
       "\n",
       "    .dataframe tbody tr th {\n",
       "        vertical-align: top;\n",
       "    }\n",
       "\n",
       "    .dataframe thead th {\n",
       "        text-align: right;\n",
       "    }\n",
       "</style>\n",
       "<table border=\"1\" class=\"dataframe\">\n",
       "  <thead>\n",
       "    <tr style=\"text-align: right;\">\n",
       "      <th></th>\n",
       "      <th>business_id</th>\n",
       "      <th>business_name</th>\n",
       "      <th>business_address</th>\n",
       "      <th>business_city</th>\n",
       "      <th>business_state</th>\n",
       "      <th>business_postal_code</th>\n",
       "      <th>business_latitude</th>\n",
       "      <th>business_longitude</th>\n",
       "      <th>business_location</th>\n",
       "      <th>business_phone_number</th>\n",
       "      <th>...</th>\n",
       "      <th>inspection_type</th>\n",
       "      <th>violation_id</th>\n",
       "      <th>violation_description</th>\n",
       "      <th>risk_category</th>\n",
       "      <th>Neighborhoods (old)</th>\n",
       "      <th>Police Districts</th>\n",
       "      <th>Supervisor Districts</th>\n",
       "      <th>Fire Prevention Districts</th>\n",
       "      <th>Zip Codes</th>\n",
       "      <th>Analysis Neighborhoods</th>\n",
       "    </tr>\n",
       "  </thead>\n",
       "  <tbody>\n",
       "    <tr>\n",
       "      <th>0</th>\n",
       "      <td>69618</td>\n",
       "      <td>Fancy Wheatfield Bakery</td>\n",
       "      <td>1362 Stockton St</td>\n",
       "      <td>San Francisco</td>\n",
       "      <td>CA</td>\n",
       "      <td>94133</td>\n",
       "      <td>NaN</td>\n",
       "      <td>NaN</td>\n",
       "      <td>NaN</td>\n",
       "      <td>NaN</td>\n",
       "      <td>...</td>\n",
       "      <td>Complaint</td>\n",
       "      <td>69618_20190304_103130</td>\n",
       "      <td>Inadequate sewage or wastewater disposal</td>\n",
       "      <td>Moderate Risk</td>\n",
       "      <td>NaN</td>\n",
       "      <td>NaN</td>\n",
       "      <td>NaN</td>\n",
       "      <td>NaN</td>\n",
       "      <td>NaN</td>\n",
       "      <td>NaN</td>\n",
       "    </tr>\n",
       "    <tr>\n",
       "      <th>1</th>\n",
       "      <td>97975</td>\n",
       "      <td>BREADBELLY</td>\n",
       "      <td>1408 Clement St</td>\n",
       "      <td>San Francisco</td>\n",
       "      <td>CA</td>\n",
       "      <td>94118</td>\n",
       "      <td>NaN</td>\n",
       "      <td>NaN</td>\n",
       "      <td>NaN</td>\n",
       "      <td>1.415724e+10</td>\n",
       "      <td>...</td>\n",
       "      <td>Routine - Unscheduled</td>\n",
       "      <td>97975_20190725_103124</td>\n",
       "      <td>Inadequately cleaned or sanitized food contact...</td>\n",
       "      <td>Moderate Risk</td>\n",
       "      <td>NaN</td>\n",
       "      <td>NaN</td>\n",
       "      <td>NaN</td>\n",
       "      <td>NaN</td>\n",
       "      <td>NaN</td>\n",
       "      <td>NaN</td>\n",
       "    </tr>\n",
       "    <tr>\n",
       "      <th>2</th>\n",
       "      <td>69487</td>\n",
       "      <td>Hakkasan San Francisco</td>\n",
       "      <td>1 Kearny St</td>\n",
       "      <td>San Francisco</td>\n",
       "      <td>CA</td>\n",
       "      <td>94108</td>\n",
       "      <td>NaN</td>\n",
       "      <td>NaN</td>\n",
       "      <td>NaN</td>\n",
       "      <td>NaN</td>\n",
       "      <td>...</td>\n",
       "      <td>Routine - Unscheduled</td>\n",
       "      <td>69487_20180418_103119</td>\n",
       "      <td>Inadequate and inaccessible handwashing facili...</td>\n",
       "      <td>Moderate Risk</td>\n",
       "      <td>NaN</td>\n",
       "      <td>NaN</td>\n",
       "      <td>NaN</td>\n",
       "      <td>NaN</td>\n",
       "      <td>NaN</td>\n",
       "      <td>NaN</td>\n",
       "    </tr>\n",
       "    <tr>\n",
       "      <th>3</th>\n",
       "      <td>91044</td>\n",
       "      <td>Chopsticks Restaurant</td>\n",
       "      <td>4615 Mission St</td>\n",
       "      <td>San Francisco</td>\n",
       "      <td>CA</td>\n",
       "      <td>94112</td>\n",
       "      <td>NaN</td>\n",
       "      <td>NaN</td>\n",
       "      <td>NaN</td>\n",
       "      <td>NaN</td>\n",
       "      <td>...</td>\n",
       "      <td>Non-inspection site visit</td>\n",
       "      <td>NaN</td>\n",
       "      <td>NaN</td>\n",
       "      <td>NaN</td>\n",
       "      <td>NaN</td>\n",
       "      <td>NaN</td>\n",
       "      <td>NaN</td>\n",
       "      <td>NaN</td>\n",
       "      <td>NaN</td>\n",
       "      <td>NaN</td>\n",
       "    </tr>\n",
       "    <tr>\n",
       "      <th>4</th>\n",
       "      <td>85987</td>\n",
       "      <td>Tselogs</td>\n",
       "      <td>552 Jones St</td>\n",
       "      <td>San Francisco</td>\n",
       "      <td>CA</td>\n",
       "      <td>94102</td>\n",
       "      <td>NaN</td>\n",
       "      <td>NaN</td>\n",
       "      <td>NaN</td>\n",
       "      <td>NaN</td>\n",
       "      <td>...</td>\n",
       "      <td>Routine - Unscheduled</td>\n",
       "      <td>85987_20180412_103132</td>\n",
       "      <td>Improper thawing methods</td>\n",
       "      <td>Moderate Risk</td>\n",
       "      <td>NaN</td>\n",
       "      <td>NaN</td>\n",
       "      <td>NaN</td>\n",
       "      <td>NaN</td>\n",
       "      <td>NaN</td>\n",
       "      <td>NaN</td>\n",
       "    </tr>\n",
       "  </tbody>\n",
       "</table>\n",
       "<p>5 rows × 23 columns</p>\n",
       "</div>"
      ],
      "text/plain": [
       "   business_id            business_name  business_address  business_city  \\\n",
       "0        69618  Fancy Wheatfield Bakery  1362 Stockton St  San Francisco   \n",
       "1        97975               BREADBELLY   1408 Clement St  San Francisco   \n",
       "2        69487   Hakkasan San Francisco       1 Kearny St  San Francisco   \n",
       "3        91044    Chopsticks Restaurant   4615 Mission St  San Francisco   \n",
       "4        85987                  Tselogs      552 Jones St  San Francisco   \n",
       "\n",
       "  business_state business_postal_code  business_latitude  business_longitude  \\\n",
       "0             CA                94133                NaN                 NaN   \n",
       "1             CA                94118                NaN                 NaN   \n",
       "2             CA                94108                NaN                 NaN   \n",
       "3             CA                94112                NaN                 NaN   \n",
       "4             CA                94102                NaN                 NaN   \n",
       "\n",
       "  business_location  business_phone_number  ...            inspection_type  \\\n",
       "0               NaN                    NaN  ...                  Complaint   \n",
       "1               NaN           1.415724e+10  ...      Routine - Unscheduled   \n",
       "2               NaN                    NaN  ...      Routine - Unscheduled   \n",
       "3               NaN                    NaN  ...  Non-inspection site visit   \n",
       "4               NaN                    NaN  ...      Routine - Unscheduled   \n",
       "\n",
       "            violation_id                              violation_description  \\\n",
       "0  69618_20190304_103130           Inadequate sewage or wastewater disposal   \n",
       "1  97975_20190725_103124  Inadequately cleaned or sanitized food contact...   \n",
       "2  69487_20180418_103119  Inadequate and inaccessible handwashing facili...   \n",
       "3                    NaN                                                NaN   \n",
       "4  85987_20180412_103132                           Improper thawing methods   \n",
       "\n",
       "   risk_category Neighborhoods (old) Police Districts Supervisor Districts  \\\n",
       "0  Moderate Risk                 NaN              NaN                  NaN   \n",
       "1  Moderate Risk                 NaN              NaN                  NaN   \n",
       "2  Moderate Risk                 NaN              NaN                  NaN   \n",
       "3            NaN                 NaN              NaN                  NaN   \n",
       "4  Moderate Risk                 NaN              NaN                  NaN   \n",
       "\n",
       "   Fire Prevention Districts  Zip Codes  Analysis Neighborhoods  \n",
       "0                        NaN        NaN                     NaN  \n",
       "1                        NaN        NaN                     NaN  \n",
       "2                        NaN        NaN                     NaN  \n",
       "3                        NaN        NaN                     NaN  \n",
       "4                        NaN        NaN                     NaN  \n",
       "\n",
       "[5 rows x 23 columns]"
      ]
     },
     "execution_count": 5,
     "metadata": {},
     "output_type": "execute_result"
    }
   ],
   "source": [
    "#sample data view\n",
    "load_data.head()"
   ]
  },
  {
   "cell_type": "markdown",
   "metadata": {
    "colab_type": "text",
    "id": "6wu-sFUwy-Rh"
   },
   "source": [
    "## Data Preprocessing"
   ]
  },
  {
   "cell_type": "code",
   "execution_count": null,
   "metadata": {
    "colab": {
     "base_uri": "https://localhost:8080/",
     "height": 323
    },
    "colab_type": "code",
    "id": "bttDh2Tjo0co",
    "outputId": "acfb17be-aa36-4e39-bfc4-e84835fb59da"
   },
   "outputs": [],
   "source": [
    "#displaying number of null values\n",
    "load_data.apply(lambda x: sum(x.isnull()))"
   ]
  },
  {
   "cell_type": "code",
   "execution_count": null,
   "metadata": {
    "colab": {
     "base_uri": "https://localhost:8080/",
     "height": 323
    },
    "colab_type": "code",
    "id": "58icb_gKuFpf",
    "outputId": "28296d2e-4d99-4c3d-d3f9-9b867ed4f53e"
   },
   "outputs": [],
   "source": [
    "#displaying number of unique values\n",
    "load_data.apply(lambda x: len(x.unique()))"
   ]
  },
  {
   "cell_type": "code",
   "execution_count": null,
   "metadata": {
    "colab": {
     "base_uri": "https://localhost:8080/",
     "height": 986
    },
    "colab_type": "code",
    "id": "l0fP-WRPZNtm",
    "outputId": "d7a577db-7b58-4e90-d070-c94738f2f136"
   },
   "outputs": [],
   "source": [
    "load_data.business_postal_code.unique().tolist()"
   ]
  },
  {
   "cell_type": "code",
   "execution_count": null,
   "metadata": {
    "colab": {},
    "colab_type": "code",
    "id": "5zydbGm5x472"
   },
   "outputs": [],
   "source": [
    "#replacing typos to null values as postal code is not known\n",
    "replace_ca_value = dict.fromkeys(['CA', 'Ca', '941'], np.nan)\n",
    "load_data = load_data.replace(replace_ca_value)"
   ]
  },
  {
   "cell_type": "code",
   "execution_count": null,
   "metadata": {
    "colab": {},
    "colab_type": "code",
    "id": "lo-ctYKTv0lw"
   },
   "outputs": [],
   "source": [
    "#making postal code in symmetry with 5 digits only\n",
    "load_data.business_postal_code = load_data.business_postal_code.str[:5]"
   ]
  },
  {
   "cell_type": "code",
   "execution_count": null,
   "metadata": {
    "colab": {},
    "colab_type": "code",
    "id": "KC2Si24Czfq7"
   },
   "outputs": [],
   "source": [
    "#correcting mistyped data\n",
    "load_data = load_data.replace(['64110'], '94110')"
   ]
  },
  {
   "cell_type": "code",
   "execution_count": null,
   "metadata": {
    "colab": {},
    "colab_type": "code",
    "id": "UyUpaPnCjoNH"
   },
   "outputs": [],
   "source": [
    "#dropping unwanted columns\n",
    "dropped_data = load_data.drop('business_name', 1)\n",
    "dropped_data = dropped_data.drop('business_city', 1)\n",
    "dropped_data = dropped_data.drop('business_state', 1)\n",
    "dropped_data = dropped_data.drop('business_location', 1)\n",
    "dropped_data = dropped_data.drop('business_phone_number', 1)\n",
    "dropped_data = dropped_data.drop('business_address', 1)\n",
    "dropped_data = dropped_data.drop('inspection_id', 1)"
   ]
  },
  {
   "cell_type": "code",
   "execution_count": null,
   "metadata": {
    "colab": {},
    "colab_type": "code",
    "id": "2baS7YOEnHob"
   },
   "outputs": [],
   "source": [
    "#changing date to day month and year column\n",
    "refined_data = dropped_data\n",
    "refined_data['inspection_date'] = dropped_data['inspection_date'].str.rstrip(' 12:00:00 AM')\n",
    "refined_data['year'] = pd.DatetimeIndex(refined_data['inspection_date']).year\n",
    "refined_data['month'] = pd.DatetimeIndex(refined_data['inspection_date']).month\n",
    "refined_data['day'] = pd.DatetimeIndex(refined_data['inspection_date']).day\n",
    "refined_data = refined_data.drop('inspection_date', 1)"
   ]
  },
  {
   "cell_type": "code",
   "execution_count": null,
   "metadata": {
    "colab": {},
    "colab_type": "code",
    "id": "d1LluZWOpFSg"
   },
   "outputs": [],
   "source": [
    "#extracting unique violation id as violation id is of the form business_id+date+unique_violation_id\n",
    "refined_data['violation_id'] = refined_data.violation_id.str.split('_').str[2]"
   ]
  },
  {
   "cell_type": "code",
   "execution_count": null,
   "metadata": {
    "colab": {
     "base_uri": "https://localhost:8080/",
     "height": 297
    },
    "colab_type": "code",
    "id": "n5uV7MqKIM9C",
    "outputId": "2187ebfb-4951-420f-9091-0f97d9c34f68"
   },
   "outputs": [],
   "source": [
    "refined_data.describe()"
   ]
  },
  {
   "cell_type": "code",
   "execution_count": null,
   "metadata": {
    "colab": {},
    "colab_type": "code",
    "id": "wZ92lJNVXFRs"
   },
   "outputs": [],
   "source": [
    "##removing rows where min business_postal_code and business_latitude is set to 0\n",
    "refined_data = refined_data[refined_data.business_postal_code != 0]\n",
    "refined_data = refined_data[refined_data.business_latitude != 0]"
   ]
  },
  {
   "cell_type": "code",
   "execution_count": null,
   "metadata": {
    "colab": {
     "base_uri": "https://localhost:8080/",
     "height": 272
    },
    "colab_type": "code",
    "id": "fNSMHYgQp2aN",
    "outputId": "8397b36e-3e82-4df2-e0ee-a48b7aff22e6"
   },
   "outputs": [],
   "source": [
    "refined_data.inspection_type.unique().tolist()"
   ]
  },
  {
   "cell_type": "code",
   "execution_count": null,
   "metadata": {
    "colab": {},
    "colab_type": "code",
    "id": "NMrxbP9lqmbc"
   },
   "outputs": [],
   "source": [
    "#dropping rows where inspection_type is null\n",
    "refined_data=refined_data.dropna(subset=['inspection_type'])"
   ]
  },
  {
   "cell_type": "code",
   "execution_count": null,
   "metadata": {
    "colab": {},
    "colab_type": "code",
    "id": "1iulEPzRZ1pb"
   },
   "outputs": [],
   "source": [
    "#converting inspection_type to four categories 'Routine', 'Complaint', 'New', 'Investigation'\n",
    "\n",
    "inspection_type_routine = dict.fromkeys(['Routine - Unscheduled', 'Reinspection/Followup', 'Routine - Scheduled'], 'Routine')\n",
    "inspection_type_new = dict.fromkeys(['New Construction', 'New Ownership', 'New Ownership - Followup'], 'New')\n",
    "inspection_type_investigation = dict.fromkeys(['Structural Inspection', 'Non-inspection site visit', 'Foodborne Illness Investigation', 'Special Event', 'Multi-agency Investigation', 'Administrative or Document Review', 'Community Health Assessment'], 'Investigation')\n",
    "inspection_type_complaint = dict.fromkeys(['Complaint', 'Complaint Reinspection/Followup'], 'Complaint')\n"
   ]
  },
  {
   "cell_type": "code",
   "execution_count": null,
   "metadata": {
    "colab": {},
    "colab_type": "code",
    "id": "Zu6Jyq1EberV"
   },
   "outputs": [],
   "source": [
    "refined_data = refined_data.replace(inspection_type_routine)\n",
    "refined_data = refined_data.replace(inspection_type_new)\n",
    "refined_data = refined_data.replace(inspection_type_investigation)\n",
    "refined_data = refined_data.replace(inspection_type_complaint)"
   ]
  },
  {
   "cell_type": "code",
   "execution_count": null,
   "metadata": {
    "colab": {},
    "colab_type": "code",
    "id": "qkPDshVMvLL_"
   },
   "outputs": [],
   "source": [
    "refined_data['inspection_type'] = refined_data['inspection_type'].replace({'Routine':1, 'Complaint':2, 'New':3, 'Investigation':4})"
   ]
  },
  {
   "cell_type": "code",
   "execution_count": null,
   "metadata": {
    "colab": {
     "base_uri": "https://localhost:8080/",
     "height": 85
    },
    "colab_type": "code",
    "id": "EYM5iq3rwowf",
    "outputId": "9999b31d-d624-4bf9-f857-170d56996191"
   },
   "outputs": [],
   "source": [
    "print(refined_data['risk_category'].value_counts())"
   ]
  },
  {
   "cell_type": "code",
   "execution_count": null,
   "metadata": {
    "colab": {},
    "colab_type": "code",
    "id": "aPov5n2DxLph"
   },
   "outputs": [],
   "source": [
    "refined_data['risk_category'] = refined_data['risk_category'].replace({'Low Risk':1, 'Moderate Risk':2, 'High Risk':3})"
   ]
  },
  {
   "cell_type": "code",
   "execution_count": null,
   "metadata": {
    "colab": {
     "base_uri": "https://localhost:8080/",
     "height": 34
    },
    "colab_type": "code",
    "id": "epE6r-NFq77-",
    "outputId": "e8a711ab-dd91-45b0-b6f3-830a75284da1"
   },
   "outputs": [],
   "source": [
    "refined_data.risk_category.unique().tolist()"
   ]
  },
  {
   "cell_type": "code",
   "execution_count": null,
   "metadata": {
    "colab": {
     "base_uri": "https://localhost:8080/",
     "height": 1173
    },
    "colab_type": "code",
    "id": "t0L_IlR5Dsa5",
    "outputId": "c2575b14-e0a5-4fcc-b892-ef98abb35f4e"
   },
   "outputs": [],
   "source": [
    "refined_data.violation_description.unique().tolist()"
   ]
  },
  {
   "cell_type": "code",
   "execution_count": null,
   "metadata": {
    "colab": {},
    "colab_type": "code",
    "id": "zKVarisi-Myb"
   },
   "outputs": [],
   "source": [
    "#converting violation type to 4 categories 'Hygiene','Legal','Noncompliance', 'Lack_Infrastructure'\n",
    "violation_hygiene = dict.fromkeys(['Unclean or degraded floors walls or ceilings', 'Wiping cloths not clean or properly stored or inadequate sanitizer', 'Moderate risk vermin infestation', 'Unclean nonfood contact surfaces', 'Foods not protected from contamination', 'Unclean hands or improper use of gloves', 'High risk vermin infestation', 'Inadequately cleaned or sanitized food contact surfaces', 'Low risk vermin infestation', 'Unclean or unsanitary food contact surfaces', 'Employee eating or smoking', 'Contaminated or adulterated food', 'Unsanitary employee garments hair or nails', 'Other low risk violation', 'Unclean unmaintained or improperly constructed toilet facilities', 'Other moderate risk violation', 'Sewage or wastewater contamination', 'Food in poor condition', 'Other high risk violation', 'Reservice of previously served foods', 'Discharge from employee nose mouth or eye', 'Improperly washed fruits and vegetables'], 'Hygiene')\n",
    "violation_lack_infra = dict.fromkeys(['Inadequate and inaccessible handwashing facilities', 'Inadequate or unsanitary refuse containers or area or no garbage service', 'No thermometers or uncalibrated thermometers', 'Improper or defective plumbing', 'No hot water or running water', 'Inadequate ventilation or lighting', 'Inadequate warewashing facilities or equipment', 'Inadequate sewage or wastewater disposal', 'Insufficient hot water or running water'],'Lack_Infrastructure')\n",
    "violation_legal = dict.fromkeys(['Food safety certificate or food handler card not available', 'Unapproved or unmaintained equipment or utensils', 'Permit license or inspection report not posted', 'No plan review or Building Permit', 'Unapproved  living quarters in food facility', 'Unpermitted food facility', 'Unapproved food source', 'Mobile food facility stored in unapproved location', 'Mobile food facility not operating with an approved commissary'],'Legal')\n",
    "violation_noncompliance = dict.fromkeys(['High risk food holding temperature', 'Inadequate food safety knowledge or lack of certified food safety manager', 'Improper storage of equipment utensils or linens', 'Improper food storage', 'Improper thawing methods', 'Moderate risk food holding temperature', 'Improper cooling methods', 'Improper storage use or identification of toxic substances', 'Improper food labeling or menu misrepresentation', 'Non service animal', 'Noncompliance with shell fish tags or display', 'Noncompliance with HAACP plan or variance', 'Inadequate HACCP plan record keeping', 'Inadequate dressing rooms or improper storage of personal items', 'Improper reheating of food', 'Inadequate procedures or records for time as a public health control', 'Worker safety hazards', 'No person in charge of food facility', 'Improper cooking time or temperatures', 'Unauthorized or unsafe use of time as a public health control measure', 'Consumer advisory not provided for raw or undercooked foods', 'Noncompliance with Gulf Coast oyster regulation', 'Noncompliance with Cottage Food Operation'],'Noncompliance')"
   ]
  },
  {
   "cell_type": "code",
   "execution_count": null,
   "metadata": {
    "colab": {},
    "colab_type": "code",
    "id": "hLLwsbUGCqJz"
   },
   "outputs": [],
   "source": [
    "refined_data = refined_data.replace(violation_hygiene)\n",
    "refined_data = refined_data.replace(violation_lack_infra)\n",
    "refined_data = refined_data.replace(violation_legal)\n",
    "refined_data = refined_data.replace(violation_noncompliance)"
   ]
  },
  {
   "cell_type": "code",
   "execution_count": null,
   "metadata": {
    "colab": {},
    "colab_type": "code",
    "id": "sIkawIaDwE-9"
   },
   "outputs": [],
   "source": [
    "refined_data['violation_description'] = refined_data['violation_description'].replace({'Hygiene':1, 'Legal':2, 'Noncompliance':3, 'Lack_Infrastructure':4})"
   ]
  },
  {
   "cell_type": "code",
   "execution_count": null,
   "metadata": {
    "colab": {},
    "colab_type": "code",
    "id": "kqzftljKEFHR"
   },
   "outputs": [],
   "source": [
    "# refined_data = refined_data.sort_values(by=['year', 'month', 'day'], ascending=True)"
   ]
  },
  {
   "cell_type": "code",
   "execution_count": null,
   "metadata": {
    "colab": {},
    "colab_type": "code",
    "id": "sTzP94RBgzsv"
   },
   "outputs": [],
   "source": [
    "refined_data=refined_data.dropna(subset=['business_latitude','violation_description','business_postal_code','inspection_score','Neighborhoods (old)'])"
   ]
  },
  {
   "cell_type": "code",
   "execution_count": null,
   "metadata": {
    "colab": {},
    "colab_type": "code",
    "id": "7HHoUPhnxiHg"
   },
   "outputs": [],
   "source": [
    "#removing inspection type as it has only 1 unique value\n",
    "refined_data = refined_data.drop('inspection_type', 1)"
   ]
  },
  {
   "cell_type": "code",
   "execution_count": null,
   "metadata": {
    "colab": {},
    "colab_type": "code",
    "id": "YpgBpMhozbP4"
   },
   "outputs": [],
   "source": [
    "#refined_data = pd.get_dummies(refined_data, columns=['violation_description','risk_category'])"
   ]
  },
  {
   "cell_type": "code",
   "execution_count": null,
   "metadata": {
    "colab": {},
    "colab_type": "code",
    "id": "kSzOvS3Pb1Ui"
   },
   "outputs": [],
   "source": [
    "#changing data type of postal code to float\n",
    "refined_data.business_postal_code = refined_data.business_postal_code.astype('float64')\n",
    "#changing data type of violation_id to float\n",
    "refined_data.violation_id = refined_data.violation_id.astype('float64')\n",
    "#changing data type of violation_description to float\n",
    "refined_data.violation_description = refined_data.violation_description.astype('float64')"
   ]
  },
  {
   "cell_type": "code",
   "execution_count": null,
   "metadata": {
    "colab": {},
    "colab_type": "code",
    "id": "h_mPRH6-4ADB"
   },
   "outputs": [],
   "source": [
    "# categorical_columns = [x for x in refined_data.dtypes.index]\n",
    "# for col in categorical_columns:\n",
    "#    print(refined_data[col].value_counts())"
   ]
  },
  {
   "cell_type": "code",
   "execution_count": null,
   "metadata": {
    "colab": {
     "base_uri": "https://localhost:8080/",
     "height": 221
    },
    "colab_type": "code",
    "id": "8tTjfRIRxOWi",
    "outputId": "eb96a584-a8d6-4b5a-c2c8-bd4de82b5751"
   },
   "outputs": [],
   "source": [
    "refined_data.apply(lambda x: len(x.unique()))"
   ]
  },
  {
   "cell_type": "code",
   "execution_count": null,
   "metadata": {
    "colab": {
     "base_uri": "https://localhost:8080/",
     "height": 221
    },
    "colab_type": "code",
    "id": "OJO9IJ_YgzNd",
    "outputId": "9555e7bf-99b7-4069-c3d2-b144b9ef22ee"
   },
   "outputs": [],
   "source": [
    "refined_data.apply(lambda x: sum(x.isnull()))"
   ]
  },
  {
   "cell_type": "code",
   "execution_count": null,
   "metadata": {
    "colab": {
     "base_uri": "https://localhost:8080/",
     "height": 306
    },
    "colab_type": "code",
    "id": "JXWo3jLehL2f",
    "outputId": "deed0ff2-8bf0-408a-e980-53a5063f571a"
   },
   "outputs": [],
   "source": [
    "print(refined_data.info())"
   ]
  },
  {
   "cell_type": "code",
   "execution_count": null,
   "metadata": {
    "colab": {
     "base_uri": "https://localhost:8080/",
     "height": 317
    },
    "colab_type": "code",
    "id": "C3F5im3_ekDf",
    "outputId": "ddc63715-0701-4b00-d03f-0c9386c94d5d"
   },
   "outputs": [],
   "source": [
    "refined_data.describe()"
   ]
  },
  {
   "cell_type": "code",
   "execution_count": null,
   "metadata": {
    "colab": {
     "base_uri": "https://localhost:8080/",
     "height": 162
    },
    "colab_type": "code",
    "id": "aGy3opP33f0v",
    "outputId": "c8d8711f-194e-46f4-b629-4327a44030cb"
   },
   "outputs": [],
   "source": [
    "refined_data.head(3)"
   ]
  },
  {
   "cell_type": "code",
   "execution_count": null,
   "metadata": {
    "colab": {
     "base_uri": "https://localhost:8080/",
     "height": 344
    },
    "colab_type": "code",
    "id": "Hlb7i97rgSxG",
    "outputId": "dcbb44a5-3776-4260-936c-9ce1f569d17f"
   },
   "outputs": [],
   "source": [
    "import matplotlib.pyplot as plt\n",
    "import seaborn as sns\n",
    "\n",
    "refined_data['business_postal_code'].value_counts().plot(kind='bar')\n",
    "plt.title('number of postal code')\n",
    "plt.xlabel('postal code')\n",
    "plt.ylabel('count')\n",
    "sns.despine"
   ]
  },
  {
   "cell_type": "code",
   "execution_count": null,
   "metadata": {
    "colab": {
     "base_uri": "https://localhost:8080/",
     "height": 350
    },
    "colab_type": "code",
    "id": "eUhdeFIBh4Or",
    "outputId": "7790f522-390a-4dc4-dc5f-9926cae6335a"
   },
   "outputs": [],
   "source": [
    "import matplotlib.pyplot as plt\n",
    "import seaborn as sns\n",
    "\n",
    "refined_data['violation_id'].value_counts().plot(kind='bar')\n",
    "plt.title('number of violation id')\n",
    "plt.xlabel('violation id')\n",
    "plt.ylabel('count')\n",
    "sns.despine"
   ]
  },
  {
   "cell_type": "code",
   "execution_count": null,
   "metadata": {
    "colab": {
     "base_uri": "https://localhost:8080/",
     "height": 817
    },
    "colab_type": "code",
    "id": "4Oe9B0GNiGXm",
    "outputId": "ffd4f89e-29ba-40f6-bbd1-037f2742d650"
   },
   "outputs": [],
   "source": [
    "plt.figure(figsize=(10,10))\n",
    "sns.jointplot(x=refined_data.business_latitude.values, y=refined_data.business_longitude.values, size=10)\n",
    "plt.xlabel('Longitude', fontsize=12)\n",
    "plt.ylabel('Latitude', fontsize=12)\n",
    "plt.show()\n",
    "sns.despine"
   ]
  },
  {
   "cell_type": "code",
   "execution_count": null,
   "metadata": {
    "colab": {
     "base_uri": "https://localhost:8080/",
     "height": 298
    },
    "colab_type": "code",
    "id": "whj_XMNU34FY",
    "outputId": "7b1734d2-770e-4737-9a4d-948072cc094d"
   },
   "outputs": [],
   "source": [
    "plt.scatter(refined_data.inspection_score, refined_data.business_longitude)\n",
    "plt.title('inspection score vs Longitude')"
   ]
  },
  {
   "cell_type": "code",
   "execution_count": null,
   "metadata": {
    "colab": {
     "base_uri": "https://localhost:8080/",
     "height": 298
    },
    "colab_type": "code",
    "id": "tMR0rGt5kyqD",
    "outputId": "e1ddf9d3-94e3-409b-8bb2-e728ea587534"
   },
   "outputs": [],
   "source": [
    "plt.scatter(refined_data.inspection_score, refined_data.business_latitude)\n",
    "plt.title('inspection score vs Latitude')"
   ]
  },
  {
   "cell_type": "code",
   "execution_count": null,
   "metadata": {
    "colab": {
     "base_uri": "https://localhost:8080/",
     "height": 298
    },
    "colab_type": "code",
    "id": "8SA_AqXvlChL",
    "outputId": "3011b8f4-0aca-4ba0-ce88-c5fd77edc9df"
   },
   "outputs": [],
   "source": [
    "plt.scatter(refined_data.business_postal_code, refined_data.inspection_score)\n",
    "plt.title('inspection score vs postal code')"
   ]
  },
  {
   "cell_type": "code",
   "execution_count": null,
   "metadata": {
    "colab": {
     "base_uri": "https://localhost:8080/",
     "height": 298
    },
    "colab_type": "code",
    "id": "GO1HJzxXoiiB",
    "outputId": "178eec0c-2a97-4fc0-af39-b2f618377069"
   },
   "outputs": [],
   "source": [
    "plt.scatter(refined_data.inspection_score, refined_data.business_id)\n",
    "plt.title('Business ID vs inspection score')"
   ]
  },
  {
   "cell_type": "markdown",
   "metadata": {
    "colab_type": "text",
    "id": "COLidhrfs_9O"
   },
   "source": [
    "##Predict label and Training data"
   ]
  },
  {
   "cell_type": "code",
   "execution_count": null,
   "metadata": {
    "colab": {},
    "colab_type": "code",
    "id": "6Vn8weYgs7E8"
   },
   "outputs": [],
   "source": [
    "predict_label = refined_data['risk_category']\n",
    "train_data = refined_data.drop('risk_category',1)"
   ]
  },
  {
   "cell_type": "markdown",
   "metadata": {
    "colab_type": "text",
    "id": "Bqb7lDJysaZY"
   },
   "source": [
    "Feature Importance"
   ]
  },
  {
   "cell_type": "code",
   "execution_count": null,
   "metadata": {
    "colab": {
     "base_uri": "https://localhost:8080/",
     "height": 357
    },
    "colab_type": "code",
    "id": "Ngo4DjZFsdof",
    "outputId": "520961ea-76f9-4337-d4f8-64fc5c52c317"
   },
   "outputs": [],
   "source": [
    "from sklearn.ensemble import ExtraTreesClassifier\n",
    "import matplotlib.pyplot as plt\n",
    "featmodel = ExtraTreesClassifier()\n",
    "featmodel.fit(train_data,predict_label)\n",
    "print(featmodel.feature_importances_) #use inbuilt class feature_importances of tree based classifiers\n",
    "#plot graph of feature importances for better visualization\n",
    "feat_importances = pd.Series(featmodel.feature_importances_, index=train_data.columns)\n",
    "feat_importances.nlargest(10).plot(kind='barh')\n",
    "plt.show()"
   ]
  },
  {
   "cell_type": "code",
   "execution_count": null,
   "metadata": {
    "colab": {},
    "colab_type": "code",
    "id": "hkYLlOWEzzfr"
   },
   "outputs": [],
   "source": [
    "train_data = train_data.drop(['business_postal_code','year','month'],axis=1)"
   ]
  },
  {
   "cell_type": "code",
   "execution_count": null,
   "metadata": {},
   "outputs": [],
   "source": [
    "\n",
    "train_data = train_data.drop(['Fire Prevention Districts'],axis=1)"
   ]
  },
  {
   "cell_type": "code",
   "execution_count": null,
   "metadata": {},
   "outputs": [],
   "source": [
    "train_data.to_csv('abc.csv')"
   ]
  },
  {
   "cell_type": "markdown",
   "metadata": {
    "colab_type": "text",
    "id": "23a4yTW3AKtB"
   },
   "source": [
    "##Creating train and test split"
   ]
  },
  {
   "cell_type": "code",
   "execution_count": null,
   "metadata": {
    "colab": {},
    "colab_type": "code",
    "id": "nnp7OZJjTkE1"
   },
   "outputs": [],
   "source": [
    "#data is shuffled by default before splitting\n",
    "from sklearn.model_selection import train_test_split\n",
    "\n",
    "#predict_label = refined_data['inspection_score']\n",
    "\n",
    "#train_data = refined_data.drop(['business_postal_code', 'inspection_score', 'business_id'],axis=1)\n",
    "#train_data = refined_data[['business_latitude', 'business_longitude'], axis=1]\n",
    "x_train , x_test , y_train , y_test = train_test_split(train_data , predict_label , test_size = 0.20, random_state=1)"
   ]
  },
  {
   "cell_type": "markdown",
   "metadata": {
    "colab_type": "text",
    "id": "XpjG-vwvAHQ2"
   },
   "source": [
    "*Writing data to file*"
   ]
  },
  {
   "cell_type": "code",
   "execution_count": null,
   "metadata": {
    "colab": {},
    "colab_type": "code",
    "id": "UeoqYovtTo0s"
   },
   "outputs": [],
   "source": [
    "x_train.to_csv(\"x_train_modified.csv\",index=False)\n",
    "y_train.to_csv(\"y_train_modified.csv\",index=False)\n",
    "x_test.to_csv(\"x_test_modified.csv\",index=False)\n",
    "y_test.to_csv(\"y_test_modified.csv\",index=False)"
   ]
  },
  {
   "cell_type": "markdown",
   "metadata": {
    "colab_type": "text",
    "id": "-NDp8lnIAAqS"
   },
   "source": [
    "*Loading data into dataframe from file to continue execution from here each time*"
   ]
  },
  {
   "cell_type": "code",
   "execution_count": null,
   "metadata": {
    "colab": {},
    "colab_type": "code",
    "id": "Aq77xBLB9r0n"
   },
   "outputs": [],
   "source": [
    "# import pandas as pd\n",
    "# import numpy as np\n",
    "# x_train = pd.read_csv('x_train_modified.csv')\n",
    "# y_train = pd.read_csv('y_train_modified.csv')\n",
    "# x_test = pd.read_csv('x_test_modified.csv')\n",
    "# y_test = pd.read_csv('y_test_modified.csv')"
   ]
  },
  {
   "cell_type": "markdown",
   "metadata": {
    "colab_type": "text",
    "id": "Y9Te6fChUaeW"
   },
   "source": [
    "## **Helper Methods**"
   ]
  },
  {
   "cell_type": "code",
   "execution_count": null,
   "metadata": {
    "colab": {},
    "colab_type": "code",
    "id": "I8GOe4ITA5bN"
   },
   "outputs": [],
   "source": [
    "from sklearn.metrics import accuracy_score, f1_score, precision_score, recall_score\n",
    "\n",
    "def displayMetrics(model, y_true, y_pred):\n",
    "  \n",
    "  #Accuracy Score\n",
    "  print('Accuracy: ', accuracy_score(y_true, y_pred))\n",
    "  \n",
    "  #Precision Score\n",
    "  print('Precision Score: ', precision_score(y_true, y_pred, average=None)) \n",
    "  \n",
    "  #Recall Score\n",
    "  print('Recall: ', recall_score(y_true, y_pred, average=None))\n",
    "  \n",
    "  #F1 Score\n",
    "  print('F1 Score: ', f1_score(y_true, y_pred, average=None))\n",
    "  "
   ]
  },
  {
   "cell_type": "code",
   "execution_count": null,
   "metadata": {
    "colab": {},
    "colab_type": "code",
    "id": "nQcsfawTCSQC"
   },
   "outputs": [],
   "source": [
    "from sklearn.metrics import precision_recall_curve, average_precision_score\n",
    "\n",
    "def plotRecallPrecision(model, testX, testy):\n",
    "  # predict probabilities\n",
    "  probs = model.predict_proba(testX)\n",
    "  # keep probabilities for the positive outcome only\n",
    "  probs = probs[:, 1]\n",
    "  # predict class values\n",
    "  yhat = model.predict(testX)\n",
    "  # calculate precision-recall curve\n",
    "  precision, recall, thresholds = precision_recall_curve(testy, probs)\n",
    "  # calculate F1 score\n",
    "  f1 = f1_score(testy, yhat)\n",
    "  # calculate precision-recall AUC\n",
    "  auc = auc(recall, precision)\n",
    "  # calculate average precision score\n",
    "  ap = average_precision_score(testy, probs)\n",
    "  print('f1=%.3f auc=%.3f ap=%.3f' % (f1, auc, ap))\n",
    "  # plot no skill\n",
    "  plt.plot([0, 1], [0.5, 0.5], linestyle='--')\n",
    "  # plot the precision-recall curve for the model\n",
    "  plt.plot(recall, precision, marker='.')\n",
    "  # show the plot\n",
    "  plt.xlabel('Recall', fontsize=12)\n",
    "  plt.ylabel('Precision', fontsize=12)\n",
    "  plt.title('Precision-Recall Curve', fontsize=12)\n",
    "  plt.show()"
   ]
  },
  {
   "cell_type": "code",
   "execution_count": null,
   "metadata": {
    "colab": {},
    "colab_type": "code",
    "id": "pqDCSyFbfOx6"
   },
   "outputs": [],
   "source": [
    "from sklearn.metrics import precision_recall_curve, average_precision_score\n",
    "\n",
    "def plotRecallPrecisionSVM(model, testX, testy):\n",
    "  # predict probabilities\n",
    "  probs = model.decision_function(testX)\n",
    "  # keep probabilities for the positive outcome only\n",
    "  probs = probs[:, 1]\n",
    "  # predict class values\n",
    "  yhat = model.predict(testX)\n",
    "  # calculate precision-recall curve\n",
    "  precision, recall, thresholds = precision_recall_curve(testy, probs)\n",
    "  # calculate F1 score\n",
    "  f1 = f1_score(testy, yhat)\n",
    "  # calculate precision-recall AUC\n",
    "  auc = auc(recall, precision)\n",
    "  # calculate average precision score\n",
    "  ap = average_precision_score(testy, probs)\n",
    "  print('f1=%.3f auc=%.3f ap=%.3f' % (f1, auc, ap))\n",
    "  # plot no skill\n",
    "  plt.plot([0, 1], [0.5, 0.5], linestyle='--')\n",
    "  # plot the precision-recall curve for the model\n",
    "  plt.plot(recall, precision, marker='.')\n",
    "  # show the plot\n",
    "  plt.xlabel('Recall', fontsize=12)\n",
    "  plt.ylabel('Precision', fontsize=12)\n",
    "  plt.title('Precision-Recall Curve', fontsize=12)\n",
    "  plt.show()"
   ]
  },
  {
   "cell_type": "code",
   "execution_count": null,
   "metadata": {
    "colab": {},
    "colab_type": "code",
    "id": "BU6ew20dHj3v"
   },
   "outputs": [],
   "source": [
    "from sklearn.metrics import mean_squared_error, r2_score\n",
    "def printLinearModels(model, x_train, x_test, y_train, y_test):\n",
    "  \n",
    "  y_predicted = model.predict(x_test)\n",
    "  rmse = mean_squared_error(y_test, y_predicted)\n",
    "  r2 = r2_score(y_test, y_predicted)\n",
    "  \n",
    "  # printing values\n",
    "#   print('Slope:' ,model.coef_)\n",
    "#   print('Intercept:', model.intercept_)\n",
    "  print('Root mean squared error: ', rmse)\n",
    "  print('R2 score: ', r2)"
   ]
  },
  {
   "cell_type": "code",
   "execution_count": null,
   "metadata": {
    "colab": {},
    "colab_type": "code",
    "id": "Qo3SKybcJ506"
   },
   "outputs": [],
   "source": [
    "from sklearn.metrics import confusion_matrix\n",
    "import seaborn as sn\n",
    "def plotConfusionMatrix(y_true, y_pred):\n",
    "  print(pd.crosstab(y_true, y_pred, rownames=['Actual'], colnames=['Predicted']))\n",
    "#   print(confusion_matrix(y_true, y_pred))\n",
    "#   sn.set(font_scale=1.4)#for label size\n",
    "#   sn.heatmap(df_cm, annot=True,annot_kws={\"size\": 16})# font size"
   ]
  },
  {
   "cell_type": "code",
   "execution_count": null,
   "metadata": {
    "colab": {},
    "colab_type": "code",
    "id": "GeLoXHzgxpUE"
   },
   "outputs": [],
   "source": [
    "from sklearn import model_selection\n",
    "# prepare configuration for cross validation test harness\n",
    "seed = 7\n",
    "scoring = 'accuracy'\n",
    "\n",
    "def modelComparison(models, x_train, y_train):\n",
    "  results = []\n",
    "  names = []\n",
    "  for model in models:\n",
    "    kfold = model_selection.KFold(n_splits=10, random_state=seed)\n",
    "    cv_results = model_selection.cross_val_score(model, x_train, y_train, cv=kfold)\n",
    "    results.append(cv_results)\n",
    "    #names.append(name)\n",
    "    msg = \"%s: %f (%f)\" % (name, cv_results.mean(), cv_results.std())\n",
    "    print(msg)\n",
    "  # boxplot algorithm comparison\n",
    "  fig = plt.figure()\n",
    "  fig.suptitle('Algorithm Comparison')\n",
    "  ax = fig.add_subplot(111)\n",
    "  plt.boxplot(results)\n",
    "  ax.set_xticklabels(names)\n",
    "  plt.show()"
   ]
  },
  {
   "cell_type": "markdown",
   "metadata": {
    "colab_type": "text",
    "id": "KczjZzOj6Agk"
   },
   "source": [
    "*Cross validation using kfold*"
   ]
  },
  {
   "cell_type": "code",
   "execution_count": null,
   "metadata": {
    "colab": {},
    "colab_type": "code",
    "id": "I0mA1uVE3WqK"
   },
   "outputs": [],
   "source": [
    "from sklearn import model_selection\n",
    "from sklearn.model_selection import cross_val_score\n",
    "\n",
    "seed = 7\n",
    "kfold = model_selection.KFold(n_splits=10, random_state=seed)"
   ]
  },
  {
   "cell_type": "markdown",
   "metadata": {
    "colab_type": "text",
    "id": "FHDulB3uUhgH"
   },
   "source": [
    "## **Linear Models**"
   ]
  },
  {
   "cell_type": "code",
   "execution_count": null,
   "metadata": {
    "colab": {},
    "colab_type": "code",
    "id": "8YRxcyAD6N4I"
   },
   "outputs": [],
   "source": [
    "results = []"
   ]
  },
  {
   "cell_type": "markdown",
   "metadata": {
    "colab_type": "text",
    "id": "8YfrnMptdpHE"
   },
   "source": [
    "Basic LinearRegression - Baseline Model "
   ]
  },
  {
   "cell_type": "code",
   "execution_count": null,
   "metadata": {
    "colab": {
     "base_uri": "https://localhost:8080/",
     "height": 51
    },
    "colab_type": "code",
    "id": "MalQR7j0pfNS",
    "outputId": "adfc0ebc-04b4-4f7b-a164-4f0c9a82c3fb"
   },
   "outputs": [],
   "source": [
    "from sklearn.linear_model import LinearRegression\n",
    "reg = LinearRegression()\n",
    "reg.fit(x_train,y_train)\n",
    "printLinearModels(reg, x_train, x_test, y_train, y_test)"
   ]
  },
  {
   "cell_type": "code",
   "execution_count": null,
   "metadata": {
    "colab": {
     "base_uri": "https://localhost:8080/",
     "height": 34
    },
    "colab_type": "code",
    "id": "vkrULsc-3vKS",
    "outputId": "8a05f3f9-f3de-4414-91da-4c21f22c303d"
   },
   "outputs": [],
   "source": [
    "cv_results = model_selection.cross_val_score(reg, x_test, y_test, cv=kfold)\n",
    "# results.append(cv_results)\n",
    "msg = \"%s: %f (%f)\" % ('LinearRegression', cv_results.mean(), cv_results.std())\n",
    "print(msg)"
   ]
  },
  {
   "cell_type": "markdown",
   "metadata": {
    "colab_type": "text",
    "id": "uvG-5dC4dvzX"
   },
   "source": [
    "LogisticRegression - newton-cg"
   ]
  },
  {
   "cell_type": "code",
   "execution_count": null,
   "metadata": {
    "colab": {
     "base_uri": "https://localhost:8080/",
     "height": 187
    },
    "colab_type": "code",
    "id": "fzBKpXtDcWyD",
    "outputId": "050cbdb9-72a1-4044-cafd-7bcfb38cb1e4"
   },
   "outputs": [],
   "source": [
    "from sklearn.linear_model import LogisticRegression\n",
    "logReg = LogisticRegression(solver='newton-cg', multi_class='auto', max_iter=1000)\n",
    "logReg.fit(x_train,y_train)"
   ]
  },
  {
   "cell_type": "code",
   "execution_count": null,
   "metadata": {
    "colab": {
     "base_uri": "https://localhost:8080/",
     "height": 85
    },
    "colab_type": "code",
    "id": "U2pa2KKxdkk1",
    "outputId": "ed25b1aa-f80f-457c-fa81-1a2bb0aa953d"
   },
   "outputs": [],
   "source": [
    "y_pred = logReg.predict(x_test)\n",
    "displayMetrics(logReg, y_test, y_pred)"
   ]
  },
  {
   "cell_type": "code",
   "execution_count": null,
   "metadata": {
    "colab": {
     "base_uri": "https://localhost:8080/",
     "height": 153
    },
    "colab_type": "code",
    "id": "vFkgZshk0pg5",
    "outputId": "d67108e0-432b-47f4-99f0-8b0e74b2a3cf"
   },
   "outputs": [],
   "source": [
    "print('\\n Confusion matrix \\n')\n",
    "plotConfusionMatrix(y_test, y_pred)"
   ]
  },
  {
   "cell_type": "code",
   "execution_count": null,
   "metadata": {
    "colab": {
     "base_uri": "https://localhost:8080/",
     "height": 1054
    },
    "colab_type": "code",
    "id": "-vMh-mkadUEa",
    "outputId": "0645ddee-79e9-49e1-8634-27ca57cbc18d"
   },
   "outputs": [],
   "source": [
    "cv_results = model_selection.cross_val_score(logReg, x_test, y_test, cv=kfold)\n",
    "results.append(cv_results)\n",
    "msg = \"%s: %f (%f)\" % ('LogisticRegression-newton-cg', cv_results.mean(), cv_results.std())\n",
    "print(msg)"
   ]
  },
  {
   "cell_type": "markdown",
   "metadata": {
    "colab_type": "text",
    "id": "eoyWbKt7d4dK"
   },
   "source": [
    "LogisticRegression - saga"
   ]
  },
  {
   "cell_type": "code",
   "execution_count": null,
   "metadata": {
    "colab": {
     "base_uri": "https://localhost:8080/",
     "height": 139
    },
    "colab_type": "code",
    "id": "0J7C1Ia1e9fJ",
    "outputId": "00a34a4e-a7b2-47bf-a29d-e102ec1826fb"
   },
   "outputs": [],
   "source": [
    "from sklearn.linear_model import LogisticRegression\n",
    "logRegSaga = LogisticRegression(solver='saga', multi_class='auto', max_iter=1000)\n",
    "logRegSaga.fit(x_train,y_train)"
   ]
  },
  {
   "cell_type": "code",
   "execution_count": null,
   "metadata": {
    "colab": {
     "base_uri": "https://localhost:8080/",
     "height": 173
    },
    "colab_type": "code",
    "id": "wcJoWnC3fCtV",
    "outputId": "8544103b-8bb7-4047-921d-406fcad95c56"
   },
   "outputs": [],
   "source": [
    "y_pred = logRegSaga.predict(x_test)\n",
    "displayMetrics(logRegSaga, y_test, y_pred)"
   ]
  },
  {
   "cell_type": "code",
   "execution_count": null,
   "metadata": {
    "colab": {
     "base_uri": "https://localhost:8080/",
     "height": 153
    },
    "colab_type": "code",
    "id": "r2s44nld0svG",
    "outputId": "5ea09de4-c46e-453a-d417-d2532bcb81ed"
   },
   "outputs": [],
   "source": [
    "print('\\n Confusion matrix \\n')\n",
    "plotConfusionMatrix(y_test, y_pred)"
   ]
  },
  {
   "cell_type": "code",
   "execution_count": null,
   "metadata": {
    "colab": {
     "base_uri": "https://localhost:8080/",
     "height": 394
    },
    "colab_type": "code",
    "id": "leesvDtefFFs",
    "outputId": "f36c9f88-fb56-459c-faff-fac368b5fb61"
   },
   "outputs": [],
   "source": [
    "cv_results = model_selection.cross_val_score(logRegSaga, x_test, y_test, cv=kfold)\n",
    "results.append(cv_results)\n",
    "msg = \"%s: %f (%f)\" % ('LogisticRegression-saga', cv_results.mean(), cv_results.std())\n",
    "print(msg)"
   ]
  },
  {
   "cell_type": "markdown",
   "metadata": {
    "colab_type": "text",
    "id": "JeCtxi1QfkN5"
   },
   "source": [
    "RidgeClassifier"
   ]
  },
  {
   "cell_type": "code",
   "execution_count": null,
   "metadata": {
    "colab": {
     "base_uri": "https://localhost:8080/",
     "height": 68
    },
    "colab_type": "code",
    "id": "-8aOaiTlNg87",
    "outputId": "e1e89a96-fd9f-4328-f7b9-d6cc4cc7a831"
   },
   "outputs": [],
   "source": [
    "from sklearn.linear_model import RidgeClassifier\n",
    "ridgeCls = RidgeClassifier()\n",
    "ridgeCls.fit(x_train, y_train)"
   ]
  },
  {
   "cell_type": "code",
   "execution_count": null,
   "metadata": {
    "colab": {
     "base_uri": "https://localhost:8080/",
     "height": 85
    },
    "colab_type": "code",
    "id": "rEuYAs5wgEWg",
    "outputId": "94c21eda-b223-4121-8f9d-f785413af276"
   },
   "outputs": [],
   "source": [
    "y_pred = ridgeCls.predict(x_test)\n",
    "displayMetrics(ridgeCls, y_test, y_pred)"
   ]
  },
  {
   "cell_type": "code",
   "execution_count": null,
   "metadata": {},
   "outputs": [],
   "source": [
    "refined_data.info()"
   ]
  },
  {
   "cell_type": "code",
   "execution_count": null,
   "metadata": {},
   "outputs": [],
   "source": [
    "y_train"
   ]
  },
  {
   "cell_type": "code",
   "execution_count": null,
   "metadata": {
    "colab": {
     "base_uri": "https://localhost:8080/",
     "height": 153
    },
    "colab_type": "code",
    "id": "q4ppacHM0vSe",
    "outputId": "1d8c4fc3-515d-49f1-adc3-c2a990137ac8"
   },
   "outputs": [],
   "source": [
    "print('\\n Confusion matrix \\n')\n",
    "plotConfusionMatrix(y_test, y_pred)"
   ]
  },
  {
   "cell_type": "code",
   "execution_count": null,
   "metadata": {
    "colab": {
     "base_uri": "https://localhost:8080/",
     "height": 34
    },
    "colab_type": "code",
    "id": "gIZ1scih5DQn",
    "outputId": "92766317-cfeb-42ca-f48c-9d560614da4e"
   },
   "outputs": [],
   "source": [
    "cv_results = model_selection.cross_val_score(ridgeCls, x_test, y_test, cv=kfold)\n",
    "results.append(cv_results)\n",
    "msg = \"%s: %f (%f)\" % ('RidgeClassifier', cv_results.mean(), cv_results.std())\n",
    "print(msg)"
   ]
  },
  {
   "cell_type": "markdown",
   "metadata": {
    "colab_type": "text",
    "id": "S3AZtR8LgKwH"
   },
   "source": [
    "SGDClassifier"
   ]
  },
  {
   "cell_type": "code",
   "execution_count": null,
   "metadata": {
    "colab": {
     "base_uri": "https://localhost:8080/",
     "height": 173
    },
    "colab_type": "code",
    "id": "vcFHeWoFgNdj",
    "outputId": "30ee7470-2bb1-499e-93db-f54b7c7e5827"
   },
   "outputs": [],
   "source": [
    "from sklearn.linear_model import SGDClassifier\n",
    "sgdCls = SGDClassifier(max_iter=1000)\n",
    "sgdCls.fit(x_train, y_train)"
   ]
  },
  {
   "cell_type": "code",
   "execution_count": null,
   "metadata": {
    "colab": {
     "base_uri": "https://localhost:8080/",
     "height": 173
    },
    "colab_type": "code",
    "id": "jeEM6dUwgit-",
    "outputId": "f7f53667-a1a8-4d4e-94e0-6ad73ed46f63"
   },
   "outputs": [],
   "source": [
    "y_pred = sgdCls.predict(x_test)\n",
    "displayMetrics(sgdCls, y_test, y_pred)"
   ]
  },
  {
   "cell_type": "code",
   "execution_count": null,
   "metadata": {
    "colab": {
     "base_uri": "https://localhost:8080/",
     "height": 153
    },
    "colab_type": "code",
    "id": "YAa8NoHY0ySk",
    "outputId": "5bd59b26-bd0a-42fc-a3d1-354cc1010104"
   },
   "outputs": [],
   "source": [
    "print('\\n Confusion matrix \\n')\n",
    "plotConfusionMatrix(y_test, y_pred)"
   ]
  },
  {
   "cell_type": "code",
   "execution_count": null,
   "metadata": {
    "colab": {
     "base_uri": "https://localhost:8080/",
     "height": 394
    },
    "colab_type": "code",
    "id": "An6PXXNRgnyI",
    "outputId": "2c801ad2-9165-4bef-85e6-bf721b6b98b0"
   },
   "outputs": [],
   "source": [
    "cv_results = model_selection.cross_val_score(sgdCls, x_test, y_test, cv=kfold)\n",
    "results.append(cv_results)\n",
    "msg = \"%s: %f (%f)\" % ('SGDClassifier', cv_results.mean(), cv_results.std())\n",
    "print(msg)"
   ]
  },
  {
   "cell_type": "markdown",
   "metadata": {
    "colab_type": "text",
    "id": "NnGQulVCzTbx"
   },
   "source": [
    "### Comaprison of linear model"
   ]
  },
  {
   "cell_type": "code",
   "execution_count": null,
   "metadata": {
    "colab": {
     "base_uri": "https://localhost:8080/",
     "height": 294
    },
    "colab_type": "code",
    "id": "PN-LYfRKzdOc",
    "outputId": "80c8fd88-de83-4365-d0ad-a7a78de0caaf"
   },
   "outputs": [],
   "source": [
    "names=['LGRN','LGRS','RC','SGD']\n",
    "\n",
    "fig = plt.figure()\n",
    "fig.suptitle('Algorithm Comparison')\n",
    "ax = fig.add_subplot(111)\n",
    "plt.boxplot(results)\n",
    "ax.set_xticklabels(names)\n",
    "plt.show()"
   ]
  },
  {
   "cell_type": "markdown",
   "metadata": {
    "colab_type": "text",
    "id": "n_ZOtYooUH4B"
   },
   "source": [
    "## **Geometric Models**"
   ]
  },
  {
   "cell_type": "code",
   "execution_count": null,
   "metadata": {
    "colab": {},
    "colab_type": "code",
    "id": "tyP6I6rr6Xcw"
   },
   "outputs": [],
   "source": [
    "results = []"
   ]
  },
  {
   "cell_type": "markdown",
   "metadata": {
    "colab_type": "text",
    "id": "1RfF5pq4Urh9"
   },
   "source": [
    "*Support Vector Machines*"
   ]
  },
  {
   "cell_type": "code",
   "execution_count": null,
   "metadata": {
    "colab": {
     "base_uri": "https://localhost:8080/",
     "height": 85
    },
    "colab_type": "code",
    "id": "eUXJ-eGbUGZJ",
    "outputId": "566f98de-0668-47a1-814e-aa0b2819c826"
   },
   "outputs": [],
   "source": [
    "from sklearn.svm import SVC\n",
    "svcModel = SVC(gamma='auto', probability=True)\n",
    "svcModel.fit(x_train,y_train)"
   ]
  },
  {
   "cell_type": "code",
   "execution_count": null,
   "metadata": {
    "colab": {
     "base_uri": "https://localhost:8080/",
     "height": 85
    },
    "colab_type": "code",
    "id": "w5wBVs6WXEpc",
    "outputId": "ef1c9ee3-2c79-44d0-f06e-8a040554567a"
   },
   "outputs": [],
   "source": [
    "y_pred = svcModel.predict(x_test)\n",
    "displayMetrics(svcModel, y_test, y_pred)"
   ]
  },
  {
   "cell_type": "code",
   "execution_count": null,
   "metadata": {
    "colab": {
     "base_uri": "https://localhost:8080/",
     "height": 153
    },
    "colab_type": "code",
    "id": "pnnT89m6LXSA",
    "outputId": "52417489-eb90-4fcf-fb5f-4b82d626a774"
   },
   "outputs": [],
   "source": [
    "print('\\n Confusion matrix \\n')\n",
    "plotConfusionMatrix(y_test, y_pred)"
   ]
  },
  {
   "cell_type": "code",
   "execution_count": null,
   "metadata": {
    "colab": {
     "base_uri": "https://localhost:8080/",
     "height": 34
    },
    "colab_type": "code",
    "id": "YXbTFpgv6VCB",
    "outputId": "6160a30e-4fb9-47f8-829e-3b10b261534f"
   },
   "outputs": [],
   "source": [
    "cv_results = model_selection.cross_val_score(svcModel, x_test, y_test, cv=kfold)\n",
    "results.append(cv_results)\n",
    "msg = \"%s: %f (%f)\" % ('SVC', cv_results.mean(), cv_results.std())\n",
    "print(msg)"
   ]
  },
  {
   "cell_type": "markdown",
   "metadata": {
    "colab_type": "text",
    "id": "KPWQXkvrhlnp"
   },
   "source": [
    "*KNearestNeighbours using manhattan distance*"
   ]
  },
  {
   "cell_type": "code",
   "execution_count": null,
   "metadata": {
    "colab": {
     "base_uri": "https://localhost:8080/",
     "height": 68
    },
    "colab_type": "code",
    "id": "SZkeKiyIhoeL",
    "outputId": "7942655d-ff64-4229-cacd-3fa5ffe10203"
   },
   "outputs": [],
   "source": [
    "from sklearn.neighbors import KNeighborsClassifier\n",
    "#manhattan_distance\n",
    "knnModel = KNeighborsClassifier(p=1, n_neighbors=8)\n",
    "knnModel.fit(x_train,y_train)"
   ]
  },
  {
   "cell_type": "code",
   "execution_count": null,
   "metadata": {
    "colab": {
     "base_uri": "https://localhost:8080/",
     "height": 85
    },
    "colab_type": "code",
    "id": "UO7tRlvliEK9",
    "outputId": "ad7f8da9-905f-4c67-ed73-ea7c5c635a24"
   },
   "outputs": [],
   "source": [
    "y_pred = knnModel.predict(x_test)\n",
    "displayMetrics(knnModel, y_test, y_pred)"
   ]
  },
  {
   "cell_type": "code",
   "execution_count": null,
   "metadata": {
    "colab": {
     "base_uri": "https://localhost:8080/",
     "height": 153
    },
    "colab_type": "code",
    "id": "1UwAJBZFPWcl",
    "outputId": "42e2e648-30cb-4451-f786-d8384339805f"
   },
   "outputs": [],
   "source": [
    "print('\\n Confusion matrix \\n')\n",
    "plotConfusionMatrix(y_test, y_pred)"
   ]
  },
  {
   "cell_type": "code",
   "execution_count": null,
   "metadata": {
    "colab": {
     "base_uri": "https://localhost:8080/",
     "height": 34
    },
    "colab_type": "code",
    "id": "n9tMVo4M6tZd",
    "outputId": "ffa8797a-2383-4ab6-9521-b6f947f03b63"
   },
   "outputs": [],
   "source": [
    "cv_results = model_selection.cross_val_score(knnModel, x_test, y_test, cv=kfold)\n",
    "results.append(cv_results)\n",
    "msg = \"%s: %f (%f)\" % ('KNN-M', cv_results.mean(), cv_results.std())\n",
    "print(msg)"
   ]
  },
  {
   "cell_type": "markdown",
   "metadata": {
    "colab_type": "text",
    "id": "naTGLPl_UsXy"
   },
   "source": [
    "*KNearestNeighbours using euclidean distance*"
   ]
  },
  {
   "cell_type": "code",
   "execution_count": null,
   "metadata": {
    "colab": {
     "base_uri": "https://localhost:8080/",
     "height": 68
    },
    "colab_type": "code",
    "id": "Pp5-EXCkkCnx",
    "outputId": "4de483b6-bc7d-43a2-de8a-c5ba8c546997"
   },
   "outputs": [],
   "source": [
    "#euclidean_distance\n",
    "knnModelE = KNeighborsClassifier(p=2, n_neighbors=8)\n",
    "knnModelE.fit(x_train,y_train)"
   ]
  },
  {
   "cell_type": "code",
   "execution_count": null,
   "metadata": {
    "colab": {
     "base_uri": "https://localhost:8080/",
     "height": 85
    },
    "colab_type": "code",
    "id": "_NjNvffbj2uh",
    "outputId": "19779972-7d1b-4573-a277-c8abe09ba62a"
   },
   "outputs": [],
   "source": [
    "y_pred = knnModelE.predict(x_test)\n",
    "displayMetrics(knnModelE, y_test, y_pred)"
   ]
  },
  {
   "cell_type": "code",
   "execution_count": null,
   "metadata": {
    "colab": {
     "base_uri": "https://localhost:8080/",
     "height": 153
    },
    "colab_type": "code",
    "id": "pRqCv18lSpuK",
    "outputId": "388356b0-74df-4b9d-d4e7-51c6c38b6045"
   },
   "outputs": [],
   "source": [
    "print('\\n Confusion matrix \\n')\n",
    "plotConfusionMatrix(y_test, y_pred)"
   ]
  },
  {
   "cell_type": "code",
   "execution_count": null,
   "metadata": {
    "colab": {
     "base_uri": "https://localhost:8080/",
     "height": 34
    },
    "colab_type": "code",
    "id": "6JWVXQ2J638W",
    "outputId": "01eff3a9-b87c-49ec-9002-6b64ef335cff"
   },
   "outputs": [],
   "source": [
    "cv_results = model_selection.cross_val_score(knnModelE, x_test, y_test, cv=kfold)\n",
    "results.append(cv_results)\n",
    "msg = \"%s: %f (%f)\" % ('KNN-E', cv_results.mean(), cv_results.std())\n",
    "print(msg)"
   ]
  },
  {
   "cell_type": "markdown",
   "metadata": {
    "colab_type": "text",
    "id": "gp3f_k5O7Ihr"
   },
   "source": [
    "###Comaprison of geometric model"
   ]
  },
  {
   "cell_type": "code",
   "execution_count": null,
   "metadata": {
    "colab": {
     "base_uri": "https://localhost:8080/",
     "height": 294
    },
    "colab_type": "code",
    "id": "QLIEJhO97Ntg",
    "outputId": "deccbd5a-2c6b-4d48-a46c-5b10ab1bdbbd"
   },
   "outputs": [],
   "source": [
    "names=['SVC', 'KNN-M','KNN-E']\n",
    "\n",
    "fig = plt.figure()\n",
    "fig.suptitle('Algorithm Comparison')\n",
    "ax = fig.add_subplot(111)\n",
    "plt.boxplot(results)\n",
    "ax.set_xticklabels(names)\n",
    "plt.show()"
   ]
  },
  {
   "cell_type": "markdown",
   "metadata": {
    "colab_type": "text",
    "id": "7gLbBwGDj3IE"
   },
   "source": [
    "## Probabilistic model"
   ]
  },
  {
   "cell_type": "code",
   "execution_count": null,
   "metadata": {
    "colab": {},
    "colab_type": "code",
    "id": "aIlOo307VMqX"
   },
   "outputs": [],
   "source": [
    "results = []"
   ]
  },
  {
   "cell_type": "code",
   "execution_count": null,
   "metadata": {
    "colab": {
     "base_uri": "https://localhost:8080/",
     "height": 34
    },
    "colab_type": "code",
    "id": "RTn2c8qUkeQE",
    "outputId": "9e7a5089-5078-4ab1-ce75-8f4b6113a11c"
   },
   "outputs": [],
   "source": [
    "from sklearn.naive_bayes import GaussianNB\n",
    "gnbModel = GaussianNB()\n",
    "gnbModel.fit(x_train,y_train)"
   ]
  },
  {
   "cell_type": "code",
   "execution_count": null,
   "metadata": {
    "colab": {
     "base_uri": "https://localhost:8080/",
     "height": 85
    },
    "colab_type": "code",
    "id": "IS4_6smglK0l",
    "outputId": "00ea73c9-cef0-4358-b874-2082a43f4558"
   },
   "outputs": [],
   "source": [
    "y_pred = gnbModel.predict(x_test)\n",
    "displayMetrics(gnbModel, y_test, y_pred)"
   ]
  },
  {
   "cell_type": "code",
   "execution_count": null,
   "metadata": {
    "colab": {
     "base_uri": "https://localhost:8080/",
     "height": 153
    },
    "colab_type": "code",
    "id": "Qv3HwFqvSrcC",
    "outputId": "15b362a1-84bb-402a-c3c4-0e6c3816415d"
   },
   "outputs": [],
   "source": [
    "print('\\n Confusion matrix \\n')\n",
    "plotConfusionMatrix(y_test, y_pred)"
   ]
  },
  {
   "cell_type": "code",
   "execution_count": null,
   "metadata": {
    "colab": {
     "base_uri": "https://localhost:8080/",
     "height": 34
    },
    "colab_type": "code",
    "id": "JlMdOqgt7ByX",
    "outputId": "f89982e4-8922-40d4-a369-f6f79e9e9ef2"
   },
   "outputs": [],
   "source": [
    "cv_results = model_selection.cross_val_score(gnbModel, x_test, y_test, cv=kfold)\n",
    "results.append(cv_results)\n",
    "msg = \"%s: %f (%f)\" % ('GNB', cv_results.mean(), cv_results.std())\n",
    "print(msg)"
   ]
  },
  {
   "cell_type": "markdown",
   "metadata": {
    "colab_type": "text",
    "id": "T2MDzlPLVTck"
   },
   "source": [
    "###Comaprison of Probabilistic model"
   ]
  },
  {
   "cell_type": "code",
   "execution_count": null,
   "metadata": {
    "colab": {
     "base_uri": "https://localhost:8080/",
     "height": 294
    },
    "colab_type": "code",
    "id": "MD6mRr0rVce-",
    "outputId": "9abb9d58-fc26-4083-f913-7b83fdafd63d"
   },
   "outputs": [],
   "source": [
    "names=['GNB']\n",
    "\n",
    "fig = plt.figure()\n",
    "fig.suptitle('Algorithm Comparison')\n",
    "ax = fig.add_subplot(111)\n",
    "plt.boxplot(results)\n",
    "ax.set_xticklabels(names)\n",
    "plt.show()"
   ]
  },
  {
   "cell_type": "markdown",
   "metadata": {
    "colab_type": "text",
    "id": "VnwgZde8noWj"
   },
   "source": [
    "## **Tree Based Model**"
   ]
  },
  {
   "cell_type": "code",
   "execution_count": null,
   "metadata": {
    "colab": {},
    "colab_type": "code",
    "id": "GjqxOaja6bnm"
   },
   "outputs": [],
   "source": [
    "results = []"
   ]
  },
  {
   "cell_type": "code",
   "execution_count": null,
   "metadata": {
    "colab": {},
    "colab_type": "code",
    "id": "Jp7nUqbLnxY-"
   },
   "outputs": [],
   "source": [
    "from sklearn import tree\n",
    "treeModel = tree.DecisionTreeClassifier(max_depth=8, max_features='auto', min_samples_split = 4)\n",
    "treeModel = treeModel.fit(x_train,y_train)"
   ]
  },
  {
   "cell_type": "code",
   "execution_count": null,
   "metadata": {
    "colab": {
     "base_uri": "https://localhost:8080/",
     "height": 85
    },
    "colab_type": "code",
    "id": "Lah6fsQdoGbq",
    "outputId": "c89f6d1b-55e0-4009-a251-e4a31eaa225d"
   },
   "outputs": [],
   "source": [
    "y_pred = treeModel.predict(x_test)\n",
    "displayMetrics(treeModel, y_test, y_pred)"
   ]
  },
  {
   "cell_type": "code",
   "execution_count": null,
   "metadata": {
    "colab": {
     "base_uri": "https://localhost:8080/",
     "height": 153
    },
    "colab_type": "code",
    "id": "YMqEbd1YStvM",
    "outputId": "d013fa7c-57f4-4812-aa75-1001e9eda8bf"
   },
   "outputs": [],
   "source": [
    "print('\\n Confusion matrix \\n')\n",
    "plotConfusionMatrix(y_test, y_pred)"
   ]
  },
  {
   "cell_type": "code",
   "execution_count": null,
   "metadata": {
    "colab": {
     "base_uri": "https://localhost:8080/",
     "height": 34
    },
    "colab_type": "code",
    "id": "Po6DEXc375Qb",
    "outputId": "477f927e-bd1f-4aed-90bb-81801f99b910"
   },
   "outputs": [],
   "source": [
    "cv_results = model_selection.cross_val_score(treeModel, x_test, y_test, cv=kfold)\n",
    "results.append(cv_results)\n",
    "msg = \"%s: %f (%f)\" % ('Tree', cv_results.mean(), cv_results.std())\n",
    "print(msg)"
   ]
  },
  {
   "cell_type": "code",
   "execution_count": null,
   "metadata": {
    "colab": {
     "base_uri": "https://localhost:8080/",
     "height": 1189
    },
    "colab_type": "code",
    "id": "EQf7wn6ioXPr",
    "outputId": "aa48450d-5ca1-4303-b30a-28fd47922888"
   },
   "outputs": [],
   "source": [
    "import graphviz\n",
    "dot_data = tree.export_graphviz(treeModel, out_file=None,\n",
    "                               filled=True, rounded=True,\n",
    "                               special_characters=True)\n",
    "graph = graphviz.Source(dot_data)\n",
    "graph\n",
    "#graph.render(\"Restaurant risk indicator\")\n"
   ]
  },
  {
   "cell_type": "markdown",
   "metadata": {
    "colab_type": "text",
    "id": "WmEycm6q7sL9"
   },
   "source": [
    "### Comaprison of Tree based model"
   ]
  },
  {
   "cell_type": "code",
   "execution_count": null,
   "metadata": {
    "colab": {
     "base_uri": "https://localhost:8080/",
     "height": 294
    },
    "colab_type": "code",
    "id": "1IypZudW7rTr",
    "outputId": "e351afc3-4ca1-472f-9e7e-eb935f590900"
   },
   "outputs": [],
   "source": [
    "names=['tree']\n",
    "\n",
    "fig = plt.figure()\n",
    "fig.suptitle('Algorithm Comparison')\n",
    "ax = fig.add_subplot(111)\n",
    "plt.boxplot(results)\n",
    "ax.set_xticklabels(names)\n",
    "plt.show()"
   ]
  },
  {
   "cell_type": "markdown",
   "metadata": {
    "colab_type": "text",
    "id": "MKytTktQ0sYG"
   },
   "source": [
    "## **Ensemble**"
   ]
  },
  {
   "cell_type": "code",
   "execution_count": null,
   "metadata": {
    "colab": {},
    "colab_type": "code",
    "id": "IoZ2ZuN06cyW"
   },
   "outputs": [],
   "source": [
    "results = []"
   ]
  },
  {
   "cell_type": "markdown",
   "metadata": {
    "colab_type": "text",
    "id": "zwaSXc909SEk"
   },
   "source": [
    "*VotingClassifier*"
   ]
  },
  {
   "cell_type": "code",
   "execution_count": null,
   "metadata": {
    "colab": {
     "base_uri": "https://localhost:8080/",
     "height": 119
    },
    "colab_type": "code",
    "id": "XT5jupG5mSsR",
    "outputId": "58fc63ca-7094-43bd-fdc8-bcd5584ff79b"
   },
   "outputs": [],
   "source": [
    "from sklearn import ensemble\n",
    "votModel = ensemble.VotingClassifier(estimators=[('RC', ridgeCls), ('KNN', knnModel), ('TR', treeModel)])\n",
    "votModel.fit(x_train, y_train)"
   ]
  },
  {
   "cell_type": "code",
   "execution_count": null,
   "metadata": {
    "colab": {},
    "colab_type": "code",
    "id": "qHf13Fh6i-3q"
   },
   "outputs": [],
   "source": [
    "y_pred = votModel.predict(x_test)"
   ]
  },
  {
   "cell_type": "code",
   "execution_count": null,
   "metadata": {
    "colab": {
     "base_uri": "https://localhost:8080/",
     "height": 85
    },
    "colab_type": "code",
    "id": "nXnC5s3F6BUg",
    "outputId": "1e3913a7-badf-4aec-a028-6798caae21a5"
   },
   "outputs": [],
   "source": [
    "# printLinearModels(reg, x_train, x_test, y_train, y_test)\n",
    "displayMetrics(votModel, y_test, y_pred)"
   ]
  },
  {
   "cell_type": "code",
   "execution_count": null,
   "metadata": {
    "colab": {
     "base_uri": "https://localhost:8080/",
     "height": 51
    },
    "colab_type": "code",
    "id": "ayQjCvkLijp7",
    "outputId": "5830e8d3-a791-4478-cbb0-58d6f001abe7"
   },
   "outputs": [],
   "source": [
    "printLinearModels(votModel, x_train, x_test, y_train, y_test)"
   ]
  },
  {
   "cell_type": "code",
   "execution_count": null,
   "metadata": {
    "colab": {
     "base_uri": "https://localhost:8080/",
     "height": 153
    },
    "colab_type": "code",
    "id": "vxibhnsOf3-n",
    "outputId": "b0363296-bb1a-4de3-93b7-e55156311d36"
   },
   "outputs": [],
   "source": [
    "print('\\n Confusion matrix \\n')\n",
    "plotConfusionMatrix(y_test, y_pred)"
   ]
  },
  {
   "cell_type": "code",
   "execution_count": null,
   "metadata": {
    "colab": {
     "base_uri": "https://localhost:8080/",
     "height": 34
    },
    "colab_type": "code",
    "id": "h8UOanPI8S-T",
    "outputId": "ee72e1b6-ef09-451c-9291-912931d94338"
   },
   "outputs": [],
   "source": [
    "cv_results = model_selection.cross_val_score(votModel, x_test, y_test, cv=kfold)\n",
    "results.append(cv_results)\n",
    "msg = \"%s: %f (%f)\" % ('Voting', cv_results.mean(), cv_results.std())\n",
    "print(msg)"
   ]
  },
  {
   "cell_type": "markdown",
   "metadata": {
    "colab_type": "text",
    "id": "VnJeICYh9WlF"
   },
   "source": [
    "*BaggingClassifier*"
   ]
  },
  {
   "cell_type": "code",
   "execution_count": null,
   "metadata": {
    "colab": {
     "base_uri": "https://localhost:8080/",
     "height": 119
    },
    "colab_type": "code",
    "id": "MwR4pzVx5BIb",
    "outputId": "28350e34-c786-440e-ce87-83fc4b3ec1f4"
   },
   "outputs": [],
   "source": [
    "from sklearn.ensemble import BaggingClassifier\n",
    "from sklearn.neighbors import KNeighborsClassifier\n",
    "baggingModel = BaggingClassifier(KNeighborsClassifier(p=1, n_neighbors=8))\n",
    "baggingModel.fit(x_train,y_train)"
   ]
  },
  {
   "cell_type": "code",
   "execution_count": null,
   "metadata": {
    "colab": {
     "base_uri": "https://localhost:8080/",
     "height": 85
    },
    "colab_type": "code",
    "id": "ltEWar3F5k_g",
    "outputId": "00aac315-e510-4aec-ba9c-085f4ab6417f"
   },
   "outputs": [],
   "source": [
    "y_pred = baggingModel.predict(x_test)\n",
    "displayMetrics(baggingModel, y_test, y_pred)"
   ]
  },
  {
   "cell_type": "code",
   "execution_count": null,
   "metadata": {
    "colab": {
     "base_uri": "https://localhost:8080/",
     "height": 153
    },
    "colab_type": "code",
    "id": "ua9blRfAS2Ed",
    "outputId": "d0e6fc7e-ab49-445e-c68f-9cf0cf0ccb8d"
   },
   "outputs": [],
   "source": [
    "print('\\n Confusion matrix \\n')\n",
    "plotConfusionMatrix(y_test, y_pred)"
   ]
  },
  {
   "cell_type": "code",
   "execution_count": null,
   "metadata": {
    "colab": {
     "base_uri": "https://localhost:8080/",
     "height": 34
    },
    "colab_type": "code",
    "id": "CttfOMDK8ew0",
    "outputId": "208ab4d5-049d-4747-e7e5-acdad0a18f90"
   },
   "outputs": [],
   "source": [
    "cv_results = model_selection.cross_val_score(baggingModel, x_test, y_test, cv=kfold)\n",
    "results.append(cv_results)\n",
    "msg = \"%s: %f (%f)\" % ('BC', cv_results.mean(), cv_results.std())\n",
    "print(msg)"
   ]
  },
  {
   "cell_type": "markdown",
   "metadata": {
    "colab_type": "text",
    "id": "eTfSaeEC9bWY"
   },
   "source": [
    "*RandomForestClassifier*"
   ]
  },
  {
   "cell_type": "code",
   "execution_count": null,
   "metadata": {
    "colab": {
     "base_uri": "https://localhost:8080/",
     "height": 136
    },
    "colab_type": "code",
    "id": "EfYs3LRE519A",
    "outputId": "73c2debe-c9cd-4ae5-fbf4-4b1b12c2c4f8"
   },
   "outputs": [],
   "source": [
    "from sklearn.ensemble import RandomForestClassifier\n",
    "rfcModel = RandomForestClassifier(n_estimators=2, max_depth=6)\n",
    "rfcModel.fit(x_train,y_train)"
   ]
  },
  {
   "cell_type": "code",
   "execution_count": null,
   "metadata": {
    "colab": {
     "base_uri": "https://localhost:8080/",
     "height": 85
    },
    "colab_type": "code",
    "id": "B92DD9W76tKA",
    "outputId": "01781cc0-2006-4b85-f9b2-6a9cec5c19fa"
   },
   "outputs": [],
   "source": [
    "y_pred = rfcModel.predict(x_test)\n",
    "displayMetrics(rfcModel, y_test, y_pred)"
   ]
  },
  {
   "cell_type": "code",
   "execution_count": null,
   "metadata": {
    "colab": {
     "base_uri": "https://localhost:8080/",
     "height": 153
    },
    "colab_type": "code",
    "id": "sgH2K-lCS3th",
    "outputId": "56563e30-54dc-472d-af61-3e38dafc2549"
   },
   "outputs": [],
   "source": [
    "print('\\n Confusion matrix \\n')\n",
    "plotConfusionMatrix(y_test, y_pred)"
   ]
  },
  {
   "cell_type": "code",
   "execution_count": null,
   "metadata": {
    "colab": {
     "base_uri": "https://localhost:8080/",
     "height": 34
    },
    "colab_type": "code",
    "id": "Qe70kp518l6x",
    "outputId": "0008798f-1ae0-4bc9-de25-c5fcc2d0d9eb"
   },
   "outputs": [],
   "source": [
    "cv_results = model_selection.cross_val_score(rfcModel, x_test, y_test, cv=kfold)\n",
    "results.append(cv_results)\n",
    "msg = \"%s: %f (%f)\" % ('RFC', cv_results.mean(), cv_results.std())\n",
    "print(msg)"
   ]
  },
  {
   "cell_type": "markdown",
   "metadata": {
    "colab_type": "text",
    "id": "liyLmygm8IZP"
   },
   "source": [
    "### Comaprison of ensemble"
   ]
  },
  {
   "cell_type": "code",
   "execution_count": null,
   "metadata": {
    "colab": {
     "base_uri": "https://localhost:8080/",
     "height": 294
    },
    "colab_type": "code",
    "id": "fIHd-MSd8Iwn",
    "outputId": "abe890b5-e293-4610-d224-92d726cfcba2"
   },
   "outputs": [],
   "source": [
    "names=['VOT','BC','RFC']\n",
    "\n",
    "fig = plt.figure()\n",
    "fig.suptitle('Algorithm Comparison')\n",
    "ax = fig.add_subplot(111)\n",
    "plt.boxplot(results)\n",
    "ax.set_xticklabels(names)\n",
    "plt.show()"
   ]
  },
  {
   "cell_type": "markdown",
   "metadata": {
    "colab_type": "text",
    "id": "dauJpx55rPnn"
   },
   "source": [
    "## Rule Based Models"
   ]
  },
  {
   "cell_type": "markdown",
   "metadata": {
    "colab_type": "text",
    "id": "06IYZyRNrVSP"
   },
   "source": [
    "*Apriori Algorithm*"
   ]
  },
  {
   "cell_type": "code",
   "execution_count": null,
   "metadata": {
    "colab": {
     "base_uri": "https://localhost:8080/",
     "height": 34
    },
    "colab_type": "code",
    "id": "73Up8d5NrUNn",
    "outputId": "246e93ac-6db0-4de5-885a-e12fed6d3931"
   },
   "outputs": [],
   "source": [
    "pip install apyori"
   ]
  },
  {
   "cell_type": "code",
   "execution_count": null,
   "metadata": {
    "colab": {},
    "colab_type": "code",
    "id": "ShyPH55iwCyu"
   },
   "outputs": [],
   "source": [
    "from apyori import apriori"
   ]
  },
  {
   "cell_type": "code",
   "execution_count": null,
   "metadata": {
    "colab": {},
    "colab_type": "code",
    "id": "VbPNeoFhwI9h"
   },
   "outputs": [],
   "source": [
    "records = [] \n",
    "for i in range(0, x_train.shape[0]):  \n",
    "    records.append([str(x_train.values[i,j]) for j in range(0, 7)])"
   ]
  },
  {
   "cell_type": "code",
   "execution_count": null,
   "metadata": {
    "colab": {},
    "colab_type": "code",
    "id": "lOLxphdMxrHn"
   },
   "outputs": [],
   "source": [
    "association_rules = apriori(records, min_support=0.0045, min_confidence=0.2, min_lift=3, min_length=2)  \n",
    "association_results = list(association_rules)  "
   ]
  },
  {
   "cell_type": "code",
   "execution_count": null,
   "metadata": {
    "colab": {
     "base_uri": "https://localhost:8080/",
     "height": 71
    },
    "colab_type": "code",
    "id": "ysebh3q2xth7",
    "outputId": "b82868d5-a45f-43b2-c07d-b1b8007d5035"
   },
   "outputs": [],
   "source": [
    "print(len(association_results))\n",
    "print(association_results[0])"
   ]
  },
  {
   "cell_type": "code",
   "execution_count": null,
   "metadata": {
    "colab": {
     "base_uri": "https://localhost:8080/",
     "height": 3672
    },
    "colab_type": "code",
    "id": "JKiTLvbcxz0k",
    "outputId": "d2b85719-3bec-409e-d1b1-c32485ed20f6"
   },
   "outputs": [],
   "source": [
    "for item in association_results:\n",
    "\n",
    "    # first index of the inner list\n",
    "    # Contains base item and add item\n",
    "    pair = item[0] \n",
    "    items = [x for x in pair]\n",
    "    print(\"Rule: \" + items[0] + \" -> \" + items[1])\n",
    "\n",
    "    #second index of the inner list\n",
    "    print(\"Support: \" + str(item[1]))\n",
    "\n",
    "    #third index of the list located at 0th\n",
    "    #of the third index of the inner list\n",
    "\n",
    "    print(\"Confidence: \" + str(item[2][0][2]))\n",
    "    print(\"Lift: \" + str(item[2][0][3]))\n",
    "    print(\"=====================================\")"
   ]
  }
 ],
 "metadata": {
  "accelerator": "GPU",
  "colab": {
   "collapsed_sections": [
    "Y7qb34u6JlJk",
    "do94n7q_Ja1l",
    "6wu-sFUwy-Rh",
    "COLidhrfs_9O",
    "23a4yTW3AKtB",
    "Y9Te6fChUaeW",
    "FHDulB3uUhgH",
    "n_ZOtYooUH4B",
    "7gLbBwGDj3IE",
    "T2MDzlPLVTck",
    "VnwgZde8noWj",
    "dauJpx55rPnn"
   ],
   "name": "Copy of RestaurantScoresLIVEData.ipynb",
   "provenance": [],
   "version": "0.3.2"
  },
  "kernelspec": {
   "display_name": "Python 3",
   "language": "python",
   "name": "python3"
  },
  "language_info": {
   "codemirror_mode": {
    "name": "ipython",
    "version": 3
   },
   "file_extension": ".py",
   "mimetype": "text/x-python",
   "name": "python",
   "nbconvert_exporter": "python",
   "pygments_lexer": "ipython3",
   "version": "3.7.9"
  }
 },
 "nbformat": 4,
 "nbformat_minor": 1
}
